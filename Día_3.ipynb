{
  "nbformat": 4,
  "nbformat_minor": 0,
  "metadata": {
    "colab": {
      "name": "Día 3.ipynb",
      "provenance": [],
      "collapsed_sections": [],
      "authorship_tag": "ABX9TyPl5wPUkH4SHMwNIAGtF1jy",
      "include_colab_link": true
    },
    "kernelspec": {
      "name": "python3",
      "display_name": "Python 3"
    }
  },
  "cells": [
    {
      "cell_type": "markdown",
      "metadata": {
        "id": "view-in-github",
        "colab_type": "text"
      },
      "source": [
        "<a href=\"https://colab.research.google.com/github/SJGE100720/Intro_Phyton_Conline/blob/main/D%C3%ADa_3.ipynb\" target=\"_parent\"><img src=\"https://colab.research.google.com/assets/colab-badge.svg\" alt=\"Open In Colab\"/></a>"
      ]
    },
    {
      "cell_type": "markdown",
      "metadata": {
        "id": "LvrC7mVW6B-Z"
      },
      "source": [
        "#Día 3\r\n",
        "Tema_5"
      ]
    },
    {
      "cell_type": "code",
      "metadata": {
        "colab": {
          "base_uri": "https://localhost:8080/"
        },
        "id": "8HzXMr4U6Am8",
        "outputId": "db1690bf-8c50-4c3c-f66f-f2a3318eff9c"
      },
      "source": [
        "#índices en listas\r\n",
        "A = [89, 2, 3, 4, 5]\r\n",
        "print(A)"
      ],
      "execution_count": null,
      "outputs": [
        {
          "output_type": "stream",
          "text": [
            "[89, 2, 3, 4, 5]\n"
          ],
          "name": "stdout"
        }
      ]
    },
    {
      "cell_type": "code",
      "metadata": {
        "colab": {
          "base_uri": "https://localhost:8080/"
        },
        "id": "xrNxwEYJ8w3_",
        "outputId": "e52f314d-09c8-470e-cf29-4e4070b75911"
      },
      "source": [
        "A[0] = 1 #Esta línea cambia la posición 0 por el valor 1\r\n",
        "print(A)\r\n",
        "A[4] = 100\r\n",
        "print(A)"
      ],
      "execution_count": null,
      "outputs": [
        {
          "output_type": "stream",
          "text": [
            "[1, 2, 3, 4, 5]\n",
            "[1, 2, 3, 4, 100]\n"
          ],
          "name": "stdout"
        }
      ]
    },
    {
      "cell_type": "markdown",
      "metadata": {
        "id": "4OivsJL79cT-"
      },
      "source": [
        "#Podemos añadir elementos a listas"
      ]
    },
    {
      "cell_type": "code",
      "metadata": {
        "colab": {
          "base_uri": "https://localhost:8080/"
        },
        "id": "tXyQCn4T9Frw",
        "outputId": "e5fea7ae-007a-40ce-fae6-6eefca8db6d7"
      },
      "source": [
        " B = [1,2,3]\r\n",
        " print(B)\r\n",
        " B.append(4) #Se le agrega el número al final\r\n",
        " B #También sirve para imprimir, pero sólo aquí"
      ],
      "execution_count": null,
      "outputs": [
        {
          "output_type": "stream",
          "text": [
            "[1, 2, 3]\n"
          ],
          "name": "stdout"
        },
        {
          "output_type": "execute_result",
          "data": {
            "text/plain": [
              "[1, 2, 3, 4]"
            ]
          },
          "metadata": {
            "tags": []
          },
          "execution_count": 7
        }
      ]
    },
    {
      "cell_type": "code",
      "metadata": {
        "id": "6yrQBzLw-Rtg",
        "colab": {
          "base_uri": "https://localhost:8080/"
        },
        "outputId": "1fda8914-2966-421b-e0b4-dd50166e493f"
      },
      "source": [
        "C = []\r\n",
        "C \r\n",
        "C.append([1,2,3])\r\n",
        "C"
      ],
      "execution_count": null,
      "outputs": [
        {
          "output_type": "execute_result",
          "data": {
            "text/plain": [
              "[[1, 2, 3]]"
            ]
          },
          "metadata": {
            "tags": []
          },
          "execution_count": 6
        }
      ]
    },
    {
      "cell_type": "code",
      "metadata": {
        "colab": {
          "base_uri": "https://localhost:8080/"
        },
        "id": "v6qK_7NyWQx9",
        "outputId": "4074797d-ce7e-488f-d36d-6d9097fe7575"
      },
      "source": [
        "C.append([4,5,6])\r\n",
        "C.append([7,8,9])\r\n",
        "C"
      ],
      "execution_count": null,
      "outputs": [
        {
          "output_type": "execute_result",
          "data": {
            "text/plain": [
              "[[1, 2, 3], [4, 5, 6], [7, 8, 9]]"
            ]
          },
          "metadata": {
            "tags": []
          },
          "execution_count": 7
        }
      ]
    },
    {
      "cell_type": "code",
      "metadata": {
        "colab": {
          "base_uri": "https://localhost:8080/"
        },
        "id": "dtHCuLg7Wb7j",
        "outputId": "a63143c7-5622-4e4a-b10e-be3ccef1a27c"
      },
      "source": [
        "import numpy as np\r\n",
        "C = np.array(C) #Matriz de 3x3\r\n",
        "C"
      ],
      "execution_count": null,
      "outputs": [
        {
          "output_type": "execute_result",
          "data": {
            "text/plain": [
              "array([[1, 2, 3],\n",
              "       [4, 5, 6],\n",
              "       [7, 8, 9]])"
            ]
          },
          "metadata": {
            "tags": []
          },
          "execution_count": 8
        }
      ]
    },
    {
      "cell_type": "markdown",
      "metadata": {
        "id": "9YkCf4DvW03M"
      },
      "source": [
        "#Operaciones a listas"
      ]
    },
    {
      "cell_type": "code",
      "metadata": {
        "colab": {
          "base_uri": "https://localhost:8080/"
        },
        "id": "0tSUo73SWtnk",
        "outputId": "3cd7ec5f-2056-43aa-a2d3-1ddddf1255b6"
      },
      "source": [
        "print(C[0])#Imprime la posición que indiques del vector\r\n",
        "print(C[1])\r\n",
        "print(C[1][0]) #Dentro del vector, cierta posición"
      ],
      "execution_count": null,
      "outputs": [
        {
          "output_type": "stream",
          "text": [
            "[1 2 3]\n",
            "[4 5 6]\n",
            "4\n"
          ],
          "name": "stdout"
        }
      ]
    },
    {
      "cell_type": "code",
      "metadata": {
        "colab": {
          "base_uri": "https://localhost:8080/"
        },
        "id": "Ptt6IZeIXRxH",
        "outputId": "43a0b74c-c467-4b9d-afa9-017cb0457bd7"
      },
      "source": [
        "D = [1,2,3,4,5,6,7,8,9,10]\r\n",
        "D "
      ],
      "execution_count": null,
      "outputs": [
        {
          "output_type": "execute_result",
          "data": {
            "text/plain": [
              "[1, 2, 3, 4, 5, 6, 7, 8, 9, 10]"
            ]
          },
          "metadata": {
            "tags": []
          },
          "execution_count": 17
        }
      ]
    },
    {
      "cell_type": "code",
      "metadata": {
        "colab": {
          "base_uri": "https://localhost:8080/"
        },
        "id": "inxTq8v3XzQz",
        "outputId": "7a01fe3d-29a0-4d83-ba62-1c4f45bf932c"
      },
      "source": [
        "Suma = sum(D) #Suma los elementos del vector\r\n",
        "print(Suma)"
      ],
      "execution_count": null,
      "outputs": [
        {
          "output_type": "stream",
          "text": [
            "55\n"
          ],
          "name": "stdout"
        }
      ]
    },
    {
      "cell_type": "code",
      "metadata": {
        "colab": {
          "base_uri": "https://localhost:8080/"
        },
        "id": "KfPGQKpcYKTH",
        "outputId": "d66e901f-09f1-4acf-b053-79070ac6789a"
      },
      "source": [
        "Longitud = len(D) #Cantidad de elementos del vector, \"longitud\"\r\n",
        "print(Longitud)"
      ],
      "execution_count": null,
      "outputs": [
        {
          "output_type": "stream",
          "text": [
            "10\n"
          ],
          "name": "stdout"
        }
      ]
    },
    {
      "cell_type": "code",
      "metadata": {
        "colab": {
          "base_uri": "https://localhost:8080/"
        },
        "id": "PZrNwLLZYObk",
        "outputId": "68fc8d47-224a-427f-ab22-d5e9788d8123"
      },
      "source": [
        "Promedio = sum(D)/Longitud\r\n",
        "print(Promedio)"
      ],
      "execution_count": null,
      "outputs": [
        {
          "output_type": "stream",
          "text": [
            "5.5\n"
          ],
          "name": "stdout"
        }
      ]
    },
    {
      "cell_type": "code",
      "metadata": {
        "colab": {
          "base_uri": "https://localhost:8080/"
        },
        "id": "S4B4V3X_YdE0",
        "outputId": "160326f7-db63-4352-928b-6ca728949b8a"
      },
      "source": [
        "#Otra forma de calcular el promedio\r\n",
        "import statistics as st\r\n",
        "Promedio_2 = st.mean(D) #Statistics: st.nombre\r\n",
        "Promedio_2\r\n",
        "#Se puede colocar solamente \"import statistics\" para llamar la librería y en el \r\n",
        "#comando, anotar el nombre completo como \"statistics.mean\"\r\n"
      ],
      "execution_count": null,
      "outputs": [
        {
          "output_type": "execute_result",
          "data": {
            "text/plain": [
              "5.5"
            ]
          },
          "metadata": {
            "tags": []
          },
          "execution_count": 22
        }
      ]
    },
    {
      "cell_type": "markdown",
      "metadata": {
        "id": "igeML_LaZNzy"
      },
      "source": [
        "#Listas con string"
      ]
    },
    {
      "cell_type": "code",
      "metadata": {
        "colab": {
          "base_uri": "https://localhost:8080/"
        },
        "id": "2LZTkoxKYv5x",
        "outputId": "6367e43c-caed-4f23-d7d2-24dc35fe86eb"
      },
      "source": [
        "Strings = ['abc','dfg','ghi','jkl']\r\n",
        "print(Strings[0][2])"
      ],
      "execution_count": null,
      "outputs": [
        {
          "output_type": "stream",
          "text": [
            "c\n"
          ],
          "name": "stdout"
        }
      ]
    },
    {
      "cell_type": "code",
      "metadata": {
        "colab": {
          "base_uri": "https://localhost:8080/"
        },
        "id": "ddUn7HaxZ5_I",
        "outputId": "987510a7-fb07-4cc5-9822-6dfd059b0706"
      },
      "source": [
        "Longitud = len(Strings)\r\n",
        "Longitud"
      ],
      "execution_count": null,
      "outputs": [
        {
          "output_type": "execute_result",
          "data": {
            "text/plain": [
              "4"
            ]
          },
          "metadata": {
            "tags": []
          },
          "execution_count": 28
        }
      ]
    },
    {
      "cell_type": "code",
      "metadata": {
        "colab": {
          "base_uri": "https://localhost:8080/"
        },
        "id": "_AnIantiaByJ",
        "outputId": "b50e3f52-6e67-4295-a278-f938000d2764"
      },
      "source": [
        "print(Strings[0:2])\r\n",
        "print(Strings[2][0:2]) #vector 2 dentro del string, de la posición 0 \r\n",
        "#hasta antes de la 2. *Recordar que comienza en 0 la enumeración."
      ],
      "execution_count": null,
      "outputs": [
        {
          "output_type": "stream",
          "text": [
            "['abc', 'dfg']\n",
            "gh\n"
          ],
          "name": "stdout"
        }
      ]
    },
    {
      "cell_type": "markdown",
      "metadata": {
        "id": "QkSrFnj7aln5"
      },
      "source": [
        "#Diccionarios"
      ]
    },
    {
      "cell_type": "code",
      "metadata": {
        "colab": {
          "base_uri": "https://localhost:8080/"
        },
        "id": "baYy0xWzaHKY",
        "outputId": "16c5baa6-c07d-4f1c-a41e-3f55183dc388"
      },
      "source": [
        "Datos_alumno = {\r\n",
        "    'Nombre': 'Octavio',\r\n",
        "    'Apellido': 'Paz',\r\n",
        "    'Matrícula': '123456',\r\n",
        "    'Horario': 'Matutino',\r\n",
        "    'Beca': 'Sí',\r\n",
        "}\r\n",
        "print(Datos_alumno['Matrícula'])\r\n",
        "print(Datos_alumno['Apellido'])\r\n",
        "print(Datos_alumno['Beca'])"
      ],
      "execution_count": null,
      "outputs": [
        {
          "output_type": "stream",
          "text": [
            "123456\n",
            "Paz\n",
            "Sí\n"
          ],
          "name": "stdout"
        }
      ]
    },
    {
      "cell_type": "code",
      "metadata": {
        "colab": {
          "base_uri": "https://localhost:8080/"
        },
        "id": "prlIWgXGbLNc",
        "outputId": "3810c1a4-7425-4891-a57c-300376351fab"
      },
      "source": [
        "#Agregamos más cosas al diccionario\r\n",
        "Datos_alumno.update({'Materias':['Física', 'Química', 'Programación']})\r\n",
        "Datos_alumno"
      ],
      "execution_count": null,
      "outputs": [
        {
          "output_type": "execute_result",
          "data": {
            "text/plain": [
              "{'Apellido': 'Paz',\n",
              " 'Beca': 'Sí',\n",
              " 'Horario': 'Matutino',\n",
              " 'Materias': ['Física', 'Química', 'Programación'],\n",
              " 'Matrícula': '123456',\n",
              " 'Nombre': 'Octavio'}"
            ]
          },
          "metadata": {
            "tags": []
          },
          "execution_count": 41
        }
      ]
    },
    {
      "cell_type": "code",
      "metadata": {
        "colab": {
          "base_uri": "https://localhost:8080/"
        },
        "id": "CNK-esuRbsLF",
        "outputId": "d2e31889-87d6-490b-a838-bf031550833e"
      },
      "source": [
        "print(Datos_alumno['Materias'])\r\n",
        "print(Datos_alumno['Materias'][0:2])"
      ],
      "execution_count": null,
      "outputs": [
        {
          "output_type": "stream",
          "text": [
            "['Física', 'Química', 'Programación']\n",
            "['Física', 'Química']\n"
          ],
          "name": "stdout"
        }
      ]
    },
    {
      "cell_type": "markdown",
      "metadata": {
        "id": "xtRRhHGTchDc"
      },
      "source": [
        "#Diccionarios anidados"
      ]
    },
    {
      "cell_type": "code",
      "metadata": {
        "id": "haW0NOBNcV-w"
      },
      "source": [
        "#Definimos diccionario con más datos\r\n",
        "Pacientes = [\r\n",
        "    {\r\n",
        "     'Nombre':'Juan',\r\n",
        "     'Seguro':'Si',\r\n",
        "     'ID_seguro':'987654321',\r\n",
        "     'Covid':'Si',\r\n",
        "     'G_sanguineo':'AB+'\r\n",
        "    },\r\n",
        "\r\n",
        "    {\r\n",
        "     'Nombre':'Maria',\r\n",
        "     'Seguro':'Si',\r\n",
        "     'ID_seguro':'123456789',\r\n",
        "     'Covid':'No',\r\n",
        "     'G_sanguineo':'A+'\r\n",
        "    },\r\n",
        "\r\n",
        "    {\r\n",
        "     'Nombre':'Ernesto',\r\n",
        "     'Seguro':'No',\r\n",
        "     'ID_seguro':'N/A',\r\n",
        "     'Covid':'No',\r\n",
        "     'G_sanguineo':'B+',\r\n",
        "    }\r\n",
        "]"
      ],
      "execution_count": null,
      "outputs": []
    },
    {
      "cell_type": "code",
      "metadata": {
        "colab": {
          "base_uri": "https://localhost:8080/"
        },
        "id": "v-2mQlyrdL0I",
        "outputId": "524f50c3-2d36-4f33-ce45-fc95b84d8204"
      },
      "source": [
        "Pacientes[0] #Imprime la posición 0 de la lista"
      ],
      "execution_count": null,
      "outputs": [
        {
          "output_type": "execute_result",
          "data": {
            "text/plain": [
              "{'Covid': 'Si',\n",
              " 'G_sanguineo': 'AB+',\n",
              " 'ID_seguro': '987654321',\n",
              " 'Nombre': 'Juan',\n",
              " 'Seguro': 'Si'}"
            ]
          },
          "metadata": {
            "tags": []
          },
          "execution_count": 45
        }
      ]
    },
    {
      "cell_type": "code",
      "metadata": {
        "colab": {
          "base_uri": "https://localhost:8080/"
        },
        "id": "F0Rmn15vdPw8",
        "outputId": "a0941106-c97c-4c49-d9d7-e822cbd3a3d0"
      },
      "source": [
        "print(Pacientes[1]['Nombre'])\r\n",
        "print(Pacientes[1]['Seguro'])\r\n",
        "print(Pacientes[1]['ID_seguro'])"
      ],
      "execution_count": null,
      "outputs": [
        {
          "output_type": "stream",
          "text": [
            "Maria\n",
            "Si\n",
            "123456789\n"
          ],
          "name": "stdout"
        }
      ]
    },
    {
      "cell_type": "code",
      "metadata": {
        "colab": {
          "base_uri": "https://localhost:8080/"
        },
        "id": "wvdFMQEPdXtW",
        "outputId": "58d9a1e7-3287-499b-9803-fad35068df67"
      },
      "source": [
        "print(Pacientes[2]['Seguro'])\r\n",
        "print(Pacientes[2]['Covid'])\r\n",
        "print(Pacientes[2]['G_sanguineo'])"
      ],
      "execution_count": null,
      "outputs": [
        {
          "output_type": "stream",
          "text": [
            "No\n",
            "No\n",
            "B+\n"
          ],
          "name": "stdout"
        }
      ]
    },
    {
      "cell_type": "code",
      "metadata": {
        "colab": {
          "base_uri": "https://localhost:8080/"
        },
        "id": "vKa9WOJ-d01R",
        "outputId": "50871326-0344-417e-bf8e-eec533f8eb44"
      },
      "source": [
        "print(Pacientes[0]['G_sanguineo'][0:2])#se debe de tener cuidado,\r\n",
        "#dependiendo del contexto, no deberías usar el comando [0:2]"
      ],
      "execution_count": null,
      "outputs": [
        {
          "output_type": "stream",
          "text": [
            "AB\n"
          ],
          "name": "stdout"
        }
      ]
    },
    {
      "cell_type": "markdown",
      "metadata": {
        "id": "PG63PJYRfzcf"
      },
      "source": [
        "#Tarea\r\n",
        "- Añadir diccionarios (mínimo 2).\r\n",
        "- El programa solicite que teclees el valor de las variables.\r\n",
        "- Luego estas se agreguen al diccionario con update."
      ]
    },
    {
      "cell_type": "code",
      "metadata": {
        "colab": {
          "base_uri": "https://localhost:8080/"
        },
        "id": "HspH9WtNhXuv",
        "outputId": "bd4b6286-6578-478e-e91d-356e63fa7eb5"
      },
      "source": [
        "Autos = [ #Diccionarios anidados vacíos\r\n",
        "         {\r\n",
        "             \r\n",
        "         },\r\n",
        "         {\r\n",
        "             \r\n",
        "         }\r\n",
        "]\r\n",
        "print(\"Por favor, introduzca los datos de dos diferentes automóviles\\npara completar los diccionarios anidados:\")\r\n",
        "Marca_1 = input(\"Introduzca la marca del auto 1: \")\r\n",
        "Placa_1 = input(\"Introduzca la placa: \")\r\n",
        "Año_1 = input(\"Introduzca el año del auto: \")\r\n",
        "Marca_2 = input(\"Introduzca la marca del auto 2: \")\r\n",
        "Placa_2 = input(\"Introduzca la placa: \")\r\n",
        "Año_2 = input(\"Introduzca el año del auto: \")\r\n",
        "\r\n",
        "Autos[0].update({'Marca':Marca_1,'Placa':Placa_1,'Año':Año_1})\r\n",
        "Autos[1].update({'Marca':Marca_2,'Placa':Placa_2,'Año':Año_2})\r\n",
        "Autos"
      ],
      "execution_count": 2,
      "outputs": [
        {
          "output_type": "stream",
          "text": [
            "Por favor, introduzca los datos de dos diferentes automóviles\n",
            "para completar los diccionarios anidados:\n",
            "Introduzca la marca del auto 1: Nissan\n",
            "Introduzca la placa: AGS562\n",
            "Introduzca el año del auto: 2011\n",
            "Introduzca la marca del auto 2: Toyota\n",
            "Introduzca la placa: AGS100\n",
            "Introduzca el año del auto: 2017\n"
          ],
          "name": "stdout"
        },
        {
          "output_type": "execute_result",
          "data": {
            "text/plain": [
              "[{'Año': '2011', 'Marca': 'Nissan', 'Placa': 'AGS562'},\n",
              " {'Año': '2017', 'Marca': 'Toyota', 'Placa': 'AGS100'}]"
            ]
          },
          "metadata": {
            "tags": []
          },
          "execution_count": 2
        }
      ]
    }
  ]
}