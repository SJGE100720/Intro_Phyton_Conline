{
  "nbformat": 4,
  "nbformat_minor": 0,
  "metadata": {
    "colab": {
      "name": "Día 2.ipynb",
      "provenance": [],
      "authorship_tag": "ABX9TyM/RxezF2PTqH54OZSibDL6",
      "include_colab_link": true
    },
    "kernelspec": {
      "name": "python3",
      "display_name": "Python 3"
    }
  },
  "cells": [
    {
      "cell_type": "markdown",
      "metadata": {
        "id": "view-in-github",
        "colab_type": "text"
      },
      "source": [
        "<a href=\"https://colab.research.google.com/github/SJGE100720/Intro_Phyton_Conline/blob/main/D%C3%ADa_2.ipynb\" target=\"_parent\"><img src=\"https://colab.research.google.com/assets/colab-badge.svg\" alt=\"Open In Colab\"/></a>"
      ]
    },
    {
      "cell_type": "markdown",
      "metadata": {
        "id": "nF4HQ0YxhM6v"
      },
      "source": [
        "# Día 2\r\n",
        "Día 2: Tema_3"
      ]
    },
    {
      "cell_type": "code",
      "metadata": {
        "id": "QcFEKCKE4z3i",
        "colab": {
          "base_uri": "https://localhost:8080/"
        },
        "outputId": "28e0dfbd-8c93-4f27-97b1-b723c3fbe9dd"
      },
      "source": [
        "#Variables\r\n",
        "#Números enteros (+/-)\r\n",
        "numero = 17\r\n",
        "#Número flotante\r\n",
        "decimal = 0.7\r\n",
        "#Cadenas o texto (string)\r\n",
        "texto = \"Texto\" #Comillas o una comilla funcionan\r\n",
        "#Booleanos (sólo puede ser verdadero o falso)\r\n",
        "booleanos = True\r\n",
        "\r\n",
        "print(numero)\r\n",
        "print(type(numero))\r\n",
        "print(decimal)\r\n",
        "print(type(decimal))\r\n",
        "print(texto)\r\n",
        "print(type(texto))\r\n",
        "print(booleanos)\r\n",
        "print(type(booleanos))"
      ],
      "execution_count": 5,
      "outputs": [
        {
          "output_type": "stream",
          "text": [
            "17\n",
            "<class 'int'>\n",
            "0.7\n",
            "<class 'float'>\n",
            "Texto\n",
            "<class 'str'>\n",
            "True\n",
            "<class 'bool'>\n"
          ],
          "name": "stdout"
        }
      ]
    },
    {
      "cell_type": "code",
      "metadata": {
        "colab": {
          "base_uri": "https://localhost:8080/"
        },
        "id": "GVSSO0d8iISr",
        "outputId": "0885fcc1-96c3-4b65-e0f7-59b9ed819478"
      },
      "source": [
        "#Se pueden definir variables usando símbolos o caractéres como acentos,alfabeto cirílico, etc.\r\n",
        "#No se puede agregar números al principio del nombre, ni se puede poner espacios en los nombres\r\n",
        "#No se puede usar el guión corto\r\n",
        "\r\n",
        "tupla = (\"hola\", 2) #Texto, números. Es inmutable, no se pueden modificar sus valores una vez establecidos\r\n",
        "lista = [6,7,3,1,6] #Listas dentro de listas\r\n",
        "set_ = {1,2,3,5,1,1} #Números repetidos no se imprimen, no hay orden\r\n",
        "diccionario = {2:2, 1:5} #Llave y después de los dos puntos es su valor correspondiente\r\n",
        "\r\n",
        "print(tupla)\r\n",
        "print(type(tupla))\r\n",
        "print(lista)\r\n",
        "print(type(lista))\r\n",
        "print(set_)\r\n",
        "print(type(set_))\r\n",
        "print(diccionario)\r\n",
        "print(type(diccionario))"
      ],
      "execution_count": 7,
      "outputs": [
        {
          "output_type": "stream",
          "text": [
            "('hola', 2)\n",
            "<class 'tuple'>\n",
            "[6, 7, 3, 1, 6]\n",
            "<class 'list'>\n",
            "{1, 2, 3, 5}\n",
            "<class 'set'>\n",
            "{2: 2, 1: 5}\n",
            "<class 'dict'>\n"
          ],
          "name": "stdout"
        }
      ]
    },
    {
      "cell_type": "markdown",
      "metadata": {
        "id": "uh5yo_1xkhtG"
      },
      "source": [
        "Día 2: Tema_4"
      ]
    },
    {
      "cell_type": "code",
      "metadata": {
        "colab": {
          "base_uri": "https://localhost:8080/"
        },
        "id": "cwryNhJkjwDv",
        "outputId": "9430ea7f-1b75-4a25-97fd-4e1b603fefa2"
      },
      "source": [
        "#Conversión de datos\r\n",
        "a = 3\r\n",
        "b = \"12\"\r\n",
        "c = a * b\r\n",
        "print(c) #La variable b se repite 3 veces."
      ],
      "execution_count": 9,
      "outputs": [
        {
          "output_type": "stream",
          "text": [
            "121212\n"
          ],
          "name": "stdout"
        }
      ]
    },
    {
      "cell_type": "code",
      "metadata": {
        "colab": {
          "base_uri": "https://localhost:8080/"
        },
        "id": "qOhN2cF-lFgU",
        "outputId": "150b69ff-6c01-4355-8d50-396b3e7d5ae4"
      },
      "source": [
        "r = \"12\"\r\n",
        "print(type(r))\r\n",
        "#Cambiar el tipo de variable. Forma #1:\r\n",
        "s = int(r) #aquí tenemos dos variables diferentes\r\n",
        "print(type(s))\r\n",
        "#Forma #2:\r\n",
        "r1 = \"12\"\r\n",
        "print(type(r1))\r\n",
        "r1 = int(r1) #aquí se redefine el tipo de variables\r\n",
        "print(type(r1))\r\n",
        "\r\n",
        "print(\"\\nHagamos operaciones:\")\r\n",
        "s1 = r1 + 2 #Usando el método 2\r\n",
        "print(s1)"
      ],
      "execution_count": 18,
      "outputs": [
        {
          "output_type": "stream",
          "text": [
            "<class 'str'>\n",
            "<class 'int'>\n",
            "<class 'str'>\n",
            "<class 'int'>\n",
            "\n",
            "Hagamos operaciones:\n",
            "14\n"
          ],
          "name": "stdout"
        }
      ]
    },
    {
      "cell_type": "code",
      "metadata": {
        "colab": {
          "base_uri": "https://localhost:8080/"
        },
        "id": "UaQO6xGzlPWj",
        "outputId": "e3f120e0-72fe-4485-fe4b-58c5c48a52e6"
      },
      "source": [
        "#Otra conversión de variables\r\n",
        "print(\"1. Conv\")\r\n",
        "r = 12\r\n",
        "print(type(r))\r\n",
        "r = str(r)\r\n",
        "print(type(r))\r\n",
        "s = \"Numero: \" + r\r\n",
        "print(s)\r\n",
        "\r\n",
        "#Otra conversión de variables x2\r\n",
        "print(\"2. Conv\")\r\n",
        "a = \"12.7\"\r\n",
        "print(type(a))\r\n",
        "a = float(a)\r\n",
        "print(type(a))\r\n",
        "p = a + 2\r\n",
        "print(p)\r\n",
        "\r\n",
        "#Otra conversión de variables x3\r\n",
        "print(\"3. Conv\")\r\n",
        "b = 12.7\r\n",
        "print(type(b))\r\n",
        "b = str(b)\r\n",
        "print(type(b))\r\n",
        "t = \"Número: \" + b\r\n",
        "print(t)"
      ],
      "execution_count": 23,
      "outputs": [
        {
          "output_type": "stream",
          "text": [
            "1. Conv\n",
            "<class 'int'>\n",
            "<class 'str'>\n",
            "Numero: 12\n",
            "2. Conv\n",
            "<class 'str'>\n",
            "<class 'float'>\n",
            "14.7\n",
            "3. Conv\n",
            "<class 'float'>\n",
            "<class 'str'>\n",
            "Número: 12.7\n"
          ],
          "name": "stdout"
        }
      ]
    },
    {
      "cell_type": "code",
      "metadata": {
        "colab": {
          "base_uri": "https://localhost:8080/"
        },
        "id": "G8uZWyKanYMV",
        "outputId": "449caf62-549d-4959-a1b4-8195f7013a26"
      },
      "source": [
        "#Ejemplo de aplicación\r\n",
        "Edad = input(\"Introduce tu edad: \")\r\n",
        "print(type(Edad))\r\n",
        "#num = \"4\"\r\n",
        "#num = float(num)\r\n",
        "#print(type(num))\r\n",
        "#print(num)\r\n",
        "Edad1 = float(input(\"Introduce tu edad: \"))\r\n",
        "print(type(Edad1))\r\n",
        "\r\n",
        "Edad_nueva = Edad1*2-2\r\n",
        "print(Edad_nueva)"
      ],
      "execution_count": 33,
      "outputs": [
        {
          "output_type": "stream",
          "text": [
            "Introduce tu edad: 20\n",
            "<class 'str'>\n",
            "Introduce tu edad: 20\n",
            "<class 'float'>\n",
            "38.0\n"
          ],
          "name": "stdout"
        }
      ]
    }
  ]
}