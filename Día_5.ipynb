{
  "nbformat": 4,
  "nbformat_minor": 0,
  "metadata": {
    "colab": {
      "name": "Día_5.ipynb",
      "provenance": [],
      "authorship_tag": "ABX9TyPmtrTQ7pr6azwGAd2+E+t/",
      "include_colab_link": true
    },
    "kernelspec": {
      "name": "python3",
      "display_name": "Python 3"
    }
  },
  "cells": [
    {
      "cell_type": "markdown",
      "metadata": {
        "id": "view-in-github",
        "colab_type": "text"
      },
      "source": [
        "<a href=\"https://colab.research.google.com/github/SJGE100720/Intro_Phyton_Conline/blob/main/D%C3%ADa_5.ipynb\" target=\"_parent\"><img src=\"https://colab.research.google.com/assets/colab-badge.svg\" alt=\"Open In Colab\"/></a>"
      ]
    },
    {
      "cell_type": "markdown",
      "metadata": {
        "id": "O5JSJkkx2fXW"
      },
      "source": [
        "Condicionales\r\n"
      ]
    },
    {
      "cell_type": "code",
      "metadata": {
        "colab": {
          "base_uri": "https://localhost:8080/"
        },
        "id": "HpFcI00X2L7p",
        "outputId": "8d9b228f-3708-41f0-bc68-71e720b92d8a"
      },
      "source": [
        "print(\"Bienvenido a club pinguin\")\r\n",
        "print(\"\")\r\n",
        "Edad = 19\r\n",
        "\r\n",
        "print(\"Tienes \" + str(Edad) + \" años.\")\r\n",
        "\r\n",
        "if Edad <= 18:\r\n",
        "  print(\"Necesitas permiso de tus padres.\")\r\n",
        "else:\r\n",
        "  print(\"Puedes crear la cuenta.\")"
      ],
      "execution_count": 9,
      "outputs": [
        {
          "output_type": "stream",
          "text": [
            "Bienvenido a club pinguin\n",
            "\n",
            "Tienes 19 años.\n",
            "Puedes crear la cuenta.\n"
          ],
          "name": "stdout"
        }
      ]
    },
    {
      "cell_type": "code",
      "metadata": {
        "colab": {
          "base_uri": "https://localhost:8080/"
        },
        "id": "2kwyW9tF2wQO",
        "outputId": "506049ff-c56e-4706-cb34-d395d619c872"
      },
      "source": [
        "calificacion = 5\r\n",
        "\r\n",
        "if calificacion == 7:\r\n",
        "  print(\"Felicidades, pero puedes mejorar.\")\r\n",
        "elif calificacion == 8:\r\n",
        "  print(\"Felicidades, estás más cerca del 10.\")\r\n",
        "elif calificacion == 9:\r\n",
        "  print(\"Felicidades, falta un poco para el 10.\")\r\n",
        "elif calificacion == 10:\r\n",
        "  print(\"¡Felicidades! Tienes 10.\")\r\n",
        "else:\r\n",
        "  print(\"Suerte en la próxima dude :(.\")"
      ],
      "execution_count": 13,
      "outputs": [
        {
          "output_type": "stream",
          "text": [
            "Suerte en la próxima dude :(.\n"
          ],
          "name": "stdout"
        }
      ]
    },
    {
      "cell_type": "code",
      "metadata": {
        "colab": {
          "base_uri": "https://localhost:8080/"
        },
        "id": "LrSqY7AK4x9N",
        "outputId": "903422d6-862c-45cf-982f-207aa4631e40"
      },
      "source": [
        "Cámara = True\r\n",
        "Micrófono = False\r\n",
        "\r\n",
        "if Cámara == True and Micrófono == True:\r\n",
        "  print(\"Puedes grabar.\")\r\n",
        "else:\r\n",
        "  print(\"No puedes grabar.\")"
      ],
      "execution_count": 15,
      "outputs": [
        {
          "output_type": "stream",
          "text": [
            "No puedes grabar.\n"
          ],
          "name": "stdout"
        }
      ]
    },
    {
      "cell_type": "code",
      "metadata": {
        "colab": {
          "base_uri": "https://localhost:8080/"
        },
        "id": "sNJjIOK35RFp",
        "outputId": "f49fe36c-da22-4c0e-bdb3-2a5c1cf5c2ce"
      },
      "source": [
        "#Tienda de hamburguesas\r\n",
        "\r\n",
        "Carne = \"Doble triple\"\r\n",
        "Salsa = \"De Coral\"\r\n",
        "Decorado = \"De lujo\"\r\n",
        "Estilo = \"Animal\"\r\n",
        "Guijarros = \"Extra\"\r\n",
        "Vibración = \"Exprimida\"\r\n",
        "Eje =\"Con grasa ligera\"\r\n",
        "Hazlo = \"Llorar\"\r\n",
        "Quémalo = \"Sí\"\r\n",
        "Nadando = \"Sí\"\r\n",
        "Pepinillos = \"No\"\r\n",
        "\r\n",
        "if (Carne == \"Doble triple\" and \r\n",
        "Salsa == \"De Coral\" and\r\n",
        "Decorado == \"De lujo\" and\r\n",
        "Estilo == \"Animal\" and\r\n",
        "Guijarros == \"Extra\" and\r\n",
        "Vibración == \"Exprimida\" and\r\n",
        "Eje == \"Con grasa ligera\" and\r\n",
        "Hazlo == \"Llorar\" and\r\n",
        "Quémalo == \"Sí\" and\r\n",
        "Nadando == \"Sí\" and\r\n",
        "Pepinillos == \"Sí\"):\r\n",
        "  print(\"Quiere la Hamburguesa.\")\r\n",
        "else:\r\n",
        "  print(\"No quiere la Hamburguesa.\")"
      ],
      "execution_count": 17,
      "outputs": [
        {
          "output_type": "stream",
          "text": [
            "No quiere la Hamburguesa.\n"
          ],
          "name": "stdout"
        }
      ]
    },
    {
      "cell_type": "markdown",
      "metadata": {
        "id": "SOanurgx7VOZ"
      },
      "source": [
        "#Tarea\r\n",
        "Para la tarea debes copiar el código anterior,\r\n",
        "cambiar el condicional de tal manera que ahora\r\n",
        "solo una condición debe ser verdadera para que se\r\n",
        "ejecute el primer print."
      ]
    },
    {
      "cell_type": "code",
      "metadata": {
        "colab": {
          "base_uri": "https://localhost:8080/"
        },
        "id": "btvFZvxR7Chz",
        "outputId": "3ca7d359-9e9d-420d-f203-2966655f8cc6"
      },
      "source": [
        "#Tienda de hamburguesas\r\n",
        "\r\n",
        "Carne = \"Doble triple\"\r\n",
        "Salsa = \"De Coral\"\r\n",
        "Decorado = \"De lujo\"\r\n",
        "Estilo = \"Animal\"\r\n",
        "Guijarros = \"Extra\"\r\n",
        "Vibración = \"Exprimida\"\r\n",
        "Eje =\"Con grasa ligera\"\r\n",
        "Hazlo = \"Llorar\"\r\n",
        "Quémalo = \"Sí\"\r\n",
        "Nadando = \"Sí\"\r\n",
        "Pepinillos = \"No\"\r\n",
        "\r\n",
        "if (Carne == \"Doble triple\" or \r\n",
        "Salsa == \"De Coral\" or\r\n",
        "Decorado == \"De lujo\" or\r\n",
        "Estilo == \"Animal\" or\r\n",
        "Guijarros == \"Extra\" or\r\n",
        "Vibración == \"Exprimida\" or\r\n",
        "Eje == \"Con grasa ligera\" or\r\n",
        "Hazlo == \"Llorar\" or\r\n",
        "Quémalo == \"Sí\" or\r\n",
        "Nadando == \"Sí\" or\r\n",
        "Pepinillos == \"Sí\"):\r\n",
        "  print(\"Quiere la kangreburger.\")\r\n",
        "else:\r\n",
        "  print(\"No quiere la kangreburger.\")"
      ],
      "execution_count": 18,
      "outputs": [
        {
          "output_type": "stream",
          "text": [
            "Quiere la kangreburger.\n"
          ],
          "name": "stdout"
        }
      ]
    }
  ]
}