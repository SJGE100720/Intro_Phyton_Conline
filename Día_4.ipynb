{
  "nbformat": 4,
  "nbformat_minor": 0,
  "metadata": {
    "colab": {
      "name": "Día_4.ipynb",
      "provenance": [],
      "authorship_tag": "ABX9TyNxh1bCnoJyF7tzrGw45nuk",
      "include_colab_link": true
    },
    "kernelspec": {
      "name": "python3",
      "display_name": "Python 3"
    }
  },
  "cells": [
    {
      "cell_type": "markdown",
      "metadata": {
        "id": "view-in-github",
        "colab_type": "text"
      },
      "source": [
        "<a href=\"https://colab.research.google.com/github/SJGE100720/Intro_Phyton_Conline/blob/main/D%C3%ADa_4.ipynb\" target=\"_parent\"><img src=\"https://colab.research.google.com/assets/colab-badge.svg\" alt=\"Open In Colab\"/></a>"
      ]
    },
    {
      "cell_type": "markdown",
      "metadata": {
        "id": "S8ZPHCYfowM1"
      },
      "source": [
        "#Tema_06\r\n",
        "**Operaciones de asignación**"
      ]
    },
    {
      "cell_type": "code",
      "metadata": {
        "colab": {
          "base_uri": "https://localhost:8080/"
        },
        "id": "5nXgtanyoYr7",
        "outputId": "1d4b0845-1d27-4f22-fe8e-be7c2bd862e4"
      },
      "source": [
        "A = 5\r\n",
        "#A = A + 3\r\n",
        "#Operador 1: Suma en asignación\r\n",
        "A += 3 #Es equivalente a A=A+3\r\n",
        "print(A)\r\n",
        "\r\n",
        "#Operador 2: Resta en asignación\r\n",
        "A -= 2 #Equivale a A=A-2\r\n",
        "print(A)\r\n",
        "\r\n",
        "#Operador 3: Multiplicación por asignación\r\n",
        "A *= 2 #Equivale a A=A*2\r\n",
        "print(A)\r\n",
        "\r\n",
        "#Operador 4: División en asignación\r\n",
        "A /= 4 #Equivale a A=A/4\r\n",
        "print(A) #Notar que se vuelve flotante al hacer la división\r\n",
        "\r\n",
        "#Operador 5: Potencia en asignación\r\n",
        "A **= 3 #Equicale a A=A**3 \r\n",
        "print(A)"
      ],
      "execution_count": 7,
      "outputs": [
        {
          "output_type": "stream",
          "text": [
            "8\n",
            "6\n",
            "12\n",
            "3.0\n",
            "27.0\n"
          ],
          "name": "stdout"
        }
      ]
    },
    {
      "cell_type": "markdown",
      "metadata": {
        "id": "RTV_mfPyqg1G"
      },
      "source": [
        "**Operador módulo**"
      ]
    },
    {
      "cell_type": "code",
      "metadata": {
        "colab": {
          "base_uri": "https://localhost:8080/"
        },
        "id": "2vzIVmkEp3u6",
        "outputId": "5daae978-01b5-43f4-a01b-b604d6b3c930"
      },
      "source": [
        "#4 / 2 = 2, pero el operador módulo da el residuo de la división\r\n",
        "#Su operador es %\r\n",
        "B = 10 % 3\r\n",
        "print(B)\r\n",
        "\r\n",
        "#Operador módulo en asignación\r\n",
        "A = 20\r\n",
        "A %= 6 #Equivale a A=A%6\r\n",
        "print(A)"
      ],
      "execution_count": 10,
      "outputs": [
        {
          "output_type": "stream",
          "text": [
            "1\n",
            "2\n"
          ],
          "name": "stdout"
        }
      ]
    },
    {
      "cell_type": "markdown",
      "metadata": {
        "id": "QIcCbXrRrfG7"
      },
      "source": [
        "**Operadores de comparación**\r\n",
        "\r\n",
        "and, or, not, >, <, ==, >=, <=, !=...darán un valor booleano: true or false\r\n",
        " Jerarquía de las operaciones\r\n",
        "1.()\r\n",
        "2.**\r\n",
        "3.*,/,%,not\r\n",
        "4.+,-,and\r\n",
        "5.>, <, ==, >=, <=, !=, or\r\n",
        "\r\n",
        "and: si ambas expresiones tienen el mismo valor True (cierto) da como resultado True\r\n",
        "or: con que mínimo una expresión tenga el valor True (cierto) da como resultado True\r\n",
        "not: cambia el valor de True (cierto) a False (falso) y viceversa."
      ]
    },
    {
      "cell_type": "code",
      "metadata": {
        "colab": {
          "base_uri": "https://localhost:8080/"
        },
        "id": "_yEN-b6Brefz",
        "outputId": "f7ae537c-c9d9-41cf-aff8-679a97915205"
      },
      "source": [
        "A = 1\r\n",
        "B = 2\r\n",
        "C = 3\r\n",
        "D = (A < C) and (C > B) #Cierto pues AMBAS afirmaciones son ciertas\r\n",
        "print(D)\r\n",
        "D = (A > C) and (C > B)#Falso pues una no es cierta\r\n",
        "print(D)\r\n",
        "D = (A > C) or (C > B) #Lo toma como cierto pues al menos la segunda afirmación es cierta\r\n",
        "print(D)\r\n",
        "D = (A > C) or (C < B) #Falso, pues ambas son falsas \r\n",
        "print(D)\r\n",
        "\r\n",
        "D = not((A > C) or (C < B)) #Si esto era falso ahora es cierto y viceversa\r\n",
        "print(D)"
      ],
      "execution_count": 14,
      "outputs": [
        {
          "output_type": "stream",
          "text": [
            "True\n",
            "False\n",
            "True\n",
            "False\n",
            "True\n"
          ],
          "name": "stdout"
        }
      ]
    },
    {
      "cell_type": "code",
      "metadata": {
        "colab": {
          "base_uri": "https://localhost:8080/"
        },
        "id": "GDKebcGCuUD5",
        "outputId": "1022f227-2aef-42ff-9e73-5fa81d458c68"
      },
      "source": [
        "#Operador diferente !=\r\n",
        "\r\n",
        "E = A != 2 # '=' es un operador de asignación y '!=' es un operador de comparación\r\n",
        "print(E)\r\n",
        "\r\n",
        "#Operador \"igualdad\" ==\r\n",
        "F = A == 1\r\n",
        "print(F)"
      ],
      "execution_count": 16,
      "outputs": [
        {
          "output_type": "stream",
          "text": [
            "True\n",
            "True\n"
          ],
          "name": "stdout"
        }
      ]
    }
  ]
}