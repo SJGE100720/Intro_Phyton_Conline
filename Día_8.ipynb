{
  "nbformat": 4,
  "nbformat_minor": 0,
  "metadata": {
    "colab": {
      "name": "Día_8.ipynb",
      "provenance": [],
      "authorship_tag": "ABX9TyPFmqqKPQrAKU6tF27cUhty",
      "include_colab_link": true
    },
    "kernelspec": {
      "name": "python3",
      "display_name": "Python 3"
    }
  },
  "cells": [
    {
      "cell_type": "markdown",
      "metadata": {
        "id": "view-in-github",
        "colab_type": "text"
      },
      "source": [
        "<a href=\"https://colab.research.google.com/github/SJGE100720/Intro_Phyton_Conline/blob/main/D%C3%ADa_8.ipynb\" target=\"_parent\"><img src=\"https://colab.research.google.com/assets/colab-badge.svg\" alt=\"Open In Colab\"/></a>"
      ]
    },
    {
      "cell_type": "markdown",
      "metadata": {
        "id": "Xj7vibpZvbMj"
      },
      "source": [
        "#Tema 10\r\n",
        "\r\n"
      ]
    },
    {
      "cell_type": "code",
      "metadata": {
        "id": "J90lEaPavXuA"
      },
      "source": [
        "#Archivos\r\n",
        "#ejemplo.txt\r\n",
        "\r\n",
        "file = open(\"ejemplo.txt\",\"w\")\r\n",
        "file.write(\"Contenido a escribir\")\r\n",
        "file.close()\r\n",
        "\r\n",
        "#'r': Por defecto, para leer el fichero.\r\n",
        "#'w': Para escribir en el fichero.\r\n",
        "#'x': Para la creación, fallando si ya existe.\r\n",
        "#'a': Para añadir contenido a un fichero existente.\r\n",
        "#'b': Para abrir en modo binario."
      ],
      "execution_count": 1,
      "outputs": []
    },
    {
      "cell_type": "code",
      "metadata": {
        "colab": {
          "base_uri": "https://localhost:8080/"
        },
        "id": "TAuEjU2h3aoo",
        "outputId": "4c566f8e-f077-4cc0-bd08-cba8a124799a"
      },
      "source": [
        "file = open(\"ejemplo.txt\",\"r\")\r\n",
        "print(file.read()) #.readline imprime caracteres específicos"
      ],
      "execution_count": 2,
      "outputs": [
        {
          "output_type": "stream",
          "text": [
            "Contenido a escribir\n"
          ],
          "name": "stdout"
        }
      ]
    },
    {
      "cell_type": "code",
      "metadata": {
        "id": "TQCYCpFk3o_c"
      },
      "source": [
        "lista = [\"Manzana\\n\", \"Pera\\n\", \"Plátano\\n\"]\r\n",
        "with open(\"ejemplo.txt\", \"w\") as file:\r\n",
        "  file.writelines(lista)"
      ],
      "execution_count": 3,
      "outputs": []
    },
    {
      "cell_type": "code",
      "metadata": {
        "colab": {
          "base_uri": "https://localhost:8080/"
        },
        "id": "AEMtCogS8d4m",
        "outputId": "f8bfa9ab-4bb3-4b27-b0b7-8ee60ac6d33d"
      },
      "source": [
        "with open('ejemplo.txt', 'r') as stop_words:\r\n",
        "  lineas = [linea.strip() for linea in stop_words]\r\n",
        "\r\n",
        "for linea in lineas:\r\n",
        "  print(linea)\r\n",
        "\r\n",
        "stop_words.close()"
      ],
      "execution_count": 5,
      "outputs": [
        {
          "output_type": "stream",
          "text": [
            "Manzana\n",
            "Pera\n",
            "Plátano\n"
          ],
          "name": "stdout"
        }
      ]
    }
  ]
}