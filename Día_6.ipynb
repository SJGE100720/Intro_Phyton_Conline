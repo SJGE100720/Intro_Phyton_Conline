{
  "nbformat": 4,
  "nbformat_minor": 0,
  "metadata": {
    "colab": {
      "name": "Día_6.ipynb",
      "provenance": [],
      "authorship_tag": "ABX9TyNhoS2wNFJ9wUij1xF+mWZW",
      "include_colab_link": true
    },
    "kernelspec": {
      "name": "python3",
      "display_name": "Python 3"
    }
  },
  "cells": [
    {
      "cell_type": "markdown",
      "metadata": {
        "id": "view-in-github",
        "colab_type": "text"
      },
      "source": [
        "<a href=\"https://colab.research.google.com/github/SJGE100720/Intro_Phyton_Conline/blob/main/D%C3%ADa_6.ipynb\" target=\"_parent\"><img src=\"https://colab.research.google.com/assets/colab-badge.svg\" alt=\"Open In Colab\"/></a>"
      ]
    },
    {
      "cell_type": "markdown",
      "metadata": {
        "id": "0Hh0cCatQqDA"
      },
      "source": [
        "#Tema 8: Ciclos\r\n",
        "Un ciclo es un código  que se repite varias veces hasta que se deja de cumplir una condición.\r\n",
        "\r\n",
        "Iteración: es el número de veces que se repite el ciclo. (Se deja de repetir hasta el número 100...?)"
      ]
    },
    {
      "cell_type": "markdown",
      "metadata": {
        "id": "kEhImiPhRNGI"
      },
      "source": [
        "**Ciclo while**"
      ]
    },
    {
      "cell_type": "code",
      "metadata": {
        "colab": {
          "base_uri": "https://localhost:8080/"
        },
        "id": "QoY9Lp8uQYV6",
        "outputId": "5d05b8f4-535d-4567-dc25-7fb7408867eb"
      },
      "source": [
        "#Solicitar un número par al usuario\r\n",
        "#Número = input(\"Ingresa un número par: \") #Tenemos una variable string\r\n",
        "Número = int(input(\"Ingresa un número par: \")) #Aquí pedimos que sea entero\r\n",
        "\r\n",
        "while Número % 2 != 0:\r\n",
        "  Número = int(input(\"DIJE QUE INGRESES UN NÚMERO PAR!! \"))\r\n",
        "\r\n",
        "print(\"El número par es:\", Número)"
      ],
      "execution_count": null,
      "outputs": [
        {
          "output_type": "stream",
          "text": [
            "Ingresa un número par: 5\n",
            "DIJE QUE INGRESES UN NÚMERO PAR!! 6\n",
            "El número par es: 6\n"
          ],
          "name": "stdout"
        }
      ]
    },
    {
      "cell_type": "code",
      "metadata": {
        "colab": {
          "base_uri": "https://localhost:8080/"
        },
        "id": "_CD4W3edSrnq",
        "outputId": "0e22f28c-4695-400b-ff6c-07fb5ef24669"
      },
      "source": [
        "#Imprimiendo números del 1 al 5\r\n",
        "i = 1\r\n",
        "\r\n",
        "while i <= 5:\r\n",
        "  print(i)\r\n",
        "  i += 1 #i = i + 1"
      ],
      "execution_count": null,
      "outputs": [
        {
          "output_type": "stream",
          "text": [
            "1\n",
            "2\n",
            "3\n",
            "4\n",
            "5\n"
          ],
          "name": "stdout"
        }
      ]
    },
    {
      "cell_type": "markdown",
      "metadata": {
        "id": "bRfoe7CITobP"
      },
      "source": [
        "**Ciclo for**\r\n",
        "\r\n",
        "Ciclo donde el número de iteraciones normalmente es conocido. La variable i toma el valor de una lista en cada iteración."
      ]
    },
    {
      "cell_type": "code",
      "metadata": {
        "colab": {
          "base_uri": "https://localhost:8080/"
        },
        "id": "RHwWhoIVTa_i",
        "outputId": "d5ca647b-77a0-412e-a3ff-5414e73cf5aa"
      },
      "source": [
        "#Imprimir números del 1 al 5\r\n",
        "for i in [1,2,3,4,5]: #\"Para la variable i dentro (in) de ese arreglo/lista\"\r\n",
        "  print(i)"
      ],
      "execution_count": null,
      "outputs": [
        {
          "output_type": "stream",
          "text": [
            "1\n",
            "2\n",
            "3\n",
            "4\n",
            "5\n"
          ],
          "name": "stdout"
        }
      ]
    },
    {
      "cell_type": "code",
      "metadata": {
        "colab": {
          "base_uri": "https://localhost:8080/"
        },
        "id": "nPXJAgJeUS0R",
        "outputId": "6673b56e-ef72-40dc-a15e-a909101abfe7"
      },
      "source": [
        "#Función range crea un arreglo de números\r\n",
        "# range(Inicio, Termina, incremento)\r\n",
        "#range(num) el arrelgo va desde 0 hasta el num - 1 de uno en uno.\r\n",
        "\r\n",
        "y = range(0,12,1) \r\n",
        "print(y) #Esto sólo imprime literalmente el range\r\n",
        "print(list(y))\r\n",
        "y = range(12) #Se puedes escribir así también\r\n",
        "print(list(y))"
      ],
      "execution_count": null,
      "outputs": [
        {
          "output_type": "stream",
          "text": [
            "range(0, 12)\n",
            "[0, 1, 2, 3, 4, 5, 6, 7, 8, 9, 10, 11]\n",
            "[0, 1, 2, 3, 4, 5, 6, 7, 8, 9, 10, 11]\n"
          ],
          "name": "stdout"
        }
      ]
    },
    {
      "cell_type": "code",
      "metadata": {
        "colab": {
          "base_uri": "https://localhost:8080/"
        },
        "id": "HQn1jFh3U6hB",
        "outputId": "c37569e7-e4b4-43a4-fcfd-1e1d1033ef69"
      },
      "source": [
        "#Sumatoria de los elementos en x\r\n",
        "x = [1,2,3,4,5]\r\n",
        "Suma = 0\r\n",
        "\r\n",
        "for i in x:\r\n",
        "  Suma += i\r\n",
        "\r\n",
        "print(Suma)\r\n",
        "\r\n",
        "#Sumando de una forma diferente\r\n",
        "Suma2 = 0\r\n",
        "for i in range(5): #range(5) genera una lista de 0 a 4.\r\n",
        "  Suma2 += x[i] #Tomamos la posición i en el vector x\r\n",
        "\r\n",
        "print(Suma2)"
      ],
      "execution_count": null,
      "outputs": [
        {
          "output_type": "stream",
          "text": [
            "15\n",
            "15\n"
          ],
          "name": "stdout"
        }
      ]
    },
    {
      "cell_type": "code",
      "metadata": {
        "colab": {
          "base_uri": "https://localhost:8080/"
        },
        "id": "IDJqRRgEZ5FB",
        "outputId": "5f9e9507-c5fc-4aec-e1b0-72184cab5691"
      },
      "source": [
        "x = [5,4,3,2,1]\r\n",
        "\r\n",
        "tamaño = len(x)\r\n",
        "\r\n",
        "print(\"El tamaño de la lista es\",tamaño)\r\n",
        "\r\n",
        "for i in range(tamaño):\r\n",
        "  if x[i] == 4:\r\n",
        "    print(\"El número 4 está en la posición\",i)\r\n",
        "    break\r\n",
        "\r\n",
        "print(\"El número de iteraciones fue\",i+1)"
      ],
      "execution_count": null,
      "outputs": [
        {
          "output_type": "stream",
          "text": [
            "El tamaño de la lista es 5\n",
            "El número 4 está en la posición 1\n",
            "El número de iteraciones fue 2\n"
          ],
          "name": "stdout"
        }
      ]
    },
    {
      "cell_type": "markdown",
      "metadata": {
        "id": "Cd11ii8EenTk"
      },
      "source": [
        "#Tarea\r\n",
        "Multiplicar todos los elementos de una matriz ó lista de listas (de minimo 3x3) por un numero (puede ser el que sea menos 1 y 0) mediante ciclos y despues imprimir la nueva lista, pueden usar más de un ciclo o ciclos dentro de otros ciclos, pero mínimo deben de usar un ciclo."
      ]
    },
    {
      "cell_type": "code",
      "metadata": {
        "colab": {
          "base_uri": "https://localhost:8080/"
        },
        "id": "rxlG_A4dcjJ3",
        "outputId": "8de00f11-98e6-4b07-a84a-c78003dc0e23"
      },
      "source": [
        "#Definimos la matriz\r\n",
        "A = [ [1,2,3],[4,5,6],[7,8,9] ]\r\n",
        "A1=[ [0,0,0],[0,0,0],[0,0,0] ]\r\n",
        "\r\n",
        "for i in range(3):\r\n",
        "  for j in range(3):\r\n",
        "    A1[i][j]=3*A[i][j]\r\n",
        "\r\n",
        "print(\"La matriz original es:\\n\",A)\r\n",
        "print(\"La matriz final es (3A):\\n\",A1)"
      ],
      "execution_count": 46,
      "outputs": [
        {
          "output_type": "stream",
          "text": [
            "La matriz original es:\n",
            " [[1, 2, 3], [4, 5, 6], [7, 8, 9]]\n",
            "La matriz final es (3A):\n",
            " [[3, 6, 9], [12, 15, 18], [21, 24, 27]]\n"
          ],
          "name": "stdout"
        }
      ]
    },
    {
      "cell_type": "code",
      "metadata": {
        "id": "gPd72Y-_ykJr"
      },
      "source": [
        ""
      ],
      "execution_count": null,
      "outputs": []
    }
  ]
}