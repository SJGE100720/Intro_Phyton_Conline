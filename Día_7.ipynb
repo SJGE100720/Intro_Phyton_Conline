{
  "nbformat": 4,
  "nbformat_minor": 0,
  "metadata": {
    "colab": {
      "name": "Día_7.ipynb",
      "provenance": [],
      "authorship_tag": "ABX9TyPscKFPX7MZjG7AlUdmjBz5",
      "include_colab_link": true
    },
    "kernelspec": {
      "name": "python3",
      "display_name": "Python 3"
    }
  },
  "cells": [
    {
      "cell_type": "markdown",
      "metadata": {
        "id": "view-in-github",
        "colab_type": "text"
      },
      "source": [
        "<a href=\"https://colab.research.google.com/github/SJGE100720/Intro_Phyton_Conline/blob/main/D%C3%ADa_7.ipynb\" target=\"_parent\"><img src=\"https://colab.research.google.com/assets/colab-badge.svg\" alt=\"Open In Colab\"/></a>"
      ]
    },
    {
      "cell_type": "markdown",
      "metadata": {
        "id": "b7lHg308Agjo"
      },
      "source": [
        "#Tema 9\r\n",
        "\r\n",
        "Una función se utiliza cuando un proceso del código (líneas de código) se debe repetir en varias ocasiones."
      ]
    },
    {
      "cell_type": "code",
      "metadata": {
        "id": "wnOExdz0AeQB"
      },
      "source": [
        "def fun_1(): #def sirve para crear una función, seguido va el nombre de la función\r\n",
        "  print(\"Hola mundo\")\r\n",
        "  #print(\"Bienvenidos\")\r\n",
        "  a = 2\r\n",
        "  b = 3\r\n",
        "  c = a * b \r\n",
        "  print(\"a * b =\",c)"
      ],
      "execution_count": 9,
      "outputs": []
    },
    {
      "cell_type": "code",
      "metadata": {
        "colab": {
          "base_uri": "https://localhost:8080/"
        },
        "id": "BV_LT_J6Vwzw",
        "outputId": "ee48cf3a-7be1-4d1c-b5da-e293dca8b3ba"
      },
      "source": [
        "fun_1() #corremos la función, se manda llamar"
      ],
      "execution_count": 10,
      "outputs": [
        {
          "output_type": "stream",
          "text": [
            "Hola mundo\n",
            "a * b = 6\n"
          ],
          "name": "stdout"
        }
      ]
    },
    {
      "cell_type": "code",
      "metadata": {
        "id": "4INjC2nEV0gZ"
      },
      "source": [
        "def fun_2(a,b): #def sirve para crear una función, seguido va el nombre de la función\r\n",
        "  print(\"Hola mundo\")\r\n",
        "  #print(\"Bienvenidos\")\r\n",
        "  #a = 2\r\n",
        "  #b = 3\r\n",
        "  c = a * b \r\n",
        "  print(\"a * b =\",c)"
      ],
      "execution_count": 13,
      "outputs": []
    },
    {
      "cell_type": "code",
      "metadata": {
        "colab": {
          "base_uri": "https://localhost:8080/"
        },
        "id": "IaIysiawWtt1",
        "outputId": "b2ed689c-f0fc-49e8-b3a2-9d8f9fbc14d1"
      },
      "source": [
        "#Dar nombre a los parámetros de entrada es mejor cuando queremos cambiar \r\n",
        "#dicho parámetro\r\n",
        "f = 5\r\n",
        "e = 2\r\n",
        "fun_2(f,e) #Damos el valor de a\r\n",
        "x = fun_2(f,e)\r\n",
        "print(x)\r\n",
        "print(type(x))\r\n",
        "#print(c) da error porque c sólo vive dentro de la función\r\n",
        "#por lo que no podrá ser usada fuera de ella."
      ],
      "execution_count": 16,
      "outputs": [
        {
          "output_type": "stream",
          "text": [
            "Hola mundo\n",
            "a * b = 10\n",
            "Hola mundo\n",
            "a * b = 10\n",
            "None\n",
            "<class 'NoneType'>\n"
          ],
          "name": "stdout"
        }
      ]
    },
    {
      "cell_type": "code",
      "metadata": {
        "id": "X-KKWgFAWvR0"
      },
      "source": [
        "def fun_3(a,b): #def sirve para crear una función, seguido va el nombre de la función\r\n",
        "  print(\"Hola mundo\")\r\n",
        "  #c = a * b \r\n",
        "  print(\"a * b =\",a*b)\r\n",
        "  return a*b"
      ],
      "execution_count": 21,
      "outputs": []
    },
    {
      "cell_type": "code",
      "metadata": {
        "colab": {
          "base_uri": "https://localhost:8080/"
        },
        "id": "XoFynXVCYXRf",
        "outputId": "88f78c75-5634-431e-865c-08e2639205b9"
      },
      "source": [
        "mult = fun_3(f,e) \r\n",
        "print(type(mult))"
      ],
      "execution_count": 22,
      "outputs": [
        {
          "output_type": "stream",
          "text": [
            "Hola mundo\n",
            "a * b = 10\n",
            "<class 'int'>\n"
          ],
          "name": "stdout"
        }
      ]
    },
    {
      "cell_type": "code",
      "metadata": {
        "id": "gaHAPUJVYiSl"
      },
      "source": [
        "def fun_4(a,b,d): #def sirve para crear una función, seguido va el nombre de la función\r\n",
        "  print(\"Hola mundo\")\r\n",
        "  c = a * b \r\n",
        "  print(\"a * b =\",a*b)\r\n",
        "  f = \"Hola \" + d\r\n",
        "  print(f)\r\n",
        "  c_s = str(c)\r\n",
        "  lista = [1.4,2.7,3.5] #puede tener valores enteros, flotantes, string\r\n",
        "  return c, c_s, lista"
      ],
      "execution_count": 34,
      "outputs": []
    },
    {
      "cell_type": "code",
      "metadata": {
        "colab": {
          "base_uri": "https://localhost:8080/"
        },
        "id": "LZCcHhf4ZcRT",
        "outputId": "16b3a243-b07b-4dbc-e031-234c1a1932c5"
      },
      "source": [
        "Valores = fun_4(f,e,\"Sandra\")\r\n",
        "print(type(Valores)) #la tupla es una lista que no se puede alterar\r\n",
        "#y tiene diferentes tipos de variables.\r\n",
        "print(type(Valores[0]))\r\n",
        "print(type(Valores[1]))\r\n",
        "print(type(Valores[2]))\r\n",
        "\r\n",
        "Entero, String, Lista =  fun_4(f,e,\"Sandra\") #cada valor que aparece\r\n",
        "#en el return, se regresará a cada variable escrita respectivamente.\r\n",
        "if Entero == Valores[0]:\r\n",
        "  print(\"Son iguales\")"
      ],
      "execution_count": 36,
      "outputs": [
        {
          "output_type": "stream",
          "text": [
            "Hola mundo\n",
            "a * b = 10\n",
            "Hola Sandra\n",
            "<class 'tuple'>\n",
            "<class 'int'>\n",
            "<class 'str'>\n",
            "<class 'list'>\n",
            "Hola mundo\n",
            "a * b = 10\n",
            "Hola Sandra\n",
            "Son iguales\n"
          ],
          "name": "stdout"
        }
      ]
    },
    {
      "cell_type": "code",
      "metadata": {
        "id": "gbVsoh3NZpes"
      },
      "source": [
        "def fun_5(a = 2,b = 3,d=\"Sandra\"): #def sirve para crear una función, seguido va el nombre de la función\r\n",
        "  print(\"Hola mundo\")\r\n",
        "  c = a * b \r\n",
        "  print(str(a) + \" * \" + str(b) + \" =\",a*b)\r\n",
        "  f = \"Hola \" + d\r\n",
        "  print(f)\r\n",
        "  c_s = str(c)\r\n",
        "  lista = [1.4,2.7,3.5] #puede tener valores enteros, flotantes, string\r\n",
        "  return c, c_s, lista"
      ],
      "execution_count": 47,
      "outputs": []
    },
    {
      "cell_type": "code",
      "metadata": {
        "colab": {
          "base_uri": "https://localhost:8080/"
        },
        "id": "7PVbtLqKdagA",
        "outputId": "03524773-7e09-440c-c442-2340ff99385e"
      },
      "source": [
        "Prueba = fun_5(10,2,\"Juanito\") #Toma los valores que defines al llamar\r\n",
        "#la función, ignorando los valores fijos con los que se definió"
      ],
      "execution_count": 49,
      "outputs": [
        {
          "output_type": "stream",
          "text": [
            "Hola mundo\n",
            "10 * 2 = 20\n",
            "Hola Juanito\n"
          ],
          "name": "stdout"
        }
      ]
    },
    {
      "cell_type": "code",
      "metadata": {
        "id": "ayz4X5nPdtXS"
      },
      "source": [
        ""
      ],
      "execution_count": null,
      "outputs": []
    }
  ]
}