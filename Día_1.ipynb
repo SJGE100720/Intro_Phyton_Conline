{
  "nbformat": 4,
  "nbformat_minor": 0,
  "metadata": {
    "colab": {
      "name": "Untitled0.ipynb",
      "provenance": [],
      "authorship_tag": "ABX9TyOaRMnb9NFVI17iznCIYGBr",
      "include_colab_link": true
    },
    "kernelspec": {
      "name": "python3",
      "display_name": "Python 3"
    }
  },
  "cells": [
    {
      "cell_type": "markdown",
      "metadata": {
        "id": "view-in-github",
        "colab_type": "text"
      },
      "source": [
        "<a href=\"https://colab.research.google.com/github/SJGE100720/Intro_Phyton_Conline/blob/main/D%C3%ADa_1.ipynb\" target=\"_parent\"><img src=\"https://colab.research.google.com/assets/colab-badge.svg\" alt=\"Open In Colab\"/></a>"
      ]
    },
    {
      "cell_type": "markdown",
      "metadata": {
        "id": "wFFmhFGUkfsH"
      },
      "source": [
        "#Curso de Python"
      ]
    },
    {
      "cell_type": "code",
      "metadata": {
        "colab": {
          "base_uri": "https://localhost:8080/"
        },
        "id": "A9zM8q2DkvCh",
        "outputId": "22d6b487-ef5e-46ba-a56a-1b30593aa264"
      },
      "source": [
        "print('Hola mundo')"
      ],
      "execution_count": 7,
      "outputs": [
        {
          "output_type": "stream",
          "text": [
            "Hola mundo\n"
          ],
          "name": "stdout"
        }
      ]
    },
    {
      "cell_type": "markdown",
      "metadata": {
        "id": "JKxgEWyX69wU"
      },
      "source": [
        "Día 1: Tema_02"
      ]
    },
    {
      "cell_type": "code",
      "metadata": {
        "colab": {
          "base_uri": "https://localhost:8080/"
        },
        "id": "BZ3GeSj2rkRB",
        "outputId": "49e6d232-b774-4537-8d13-0741e5cb1781"
      },
      "source": [
        "#Creando una variable string\r\n",
        "Mensaje = \"Hola\"\r\n",
        "#Imprimiendo la variable\r\n",
        "#print(Mensaje)\r\n",
        "print(\"\\t¿Cómo estás? \\n\\tEstoy bien\", Mensaje)\r\n",
        "#\\n es un salto de línea\r\n",
        "#\\t es un tabulador"
      ],
      "execution_count": 13,
      "outputs": [
        {
          "output_type": "stream",
          "text": [
            "\t¿Cómo estás? \n",
            "\tEstoy bien Hola\n"
          ],
          "name": "stdout"
        }
      ]
    },
    {
      "cell_type": "code",
      "metadata": {
        "colab": {
          "base_uri": "https://localhost:8080/"
        },
        "id": "xZLMmQ8Rro4U",
        "outputId": "f2a7d24d-219c-44a7-9f77-e7b486001fea"
      },
      "source": [
        "# Concatenación (unir) de strings\r\n",
        "M_1 = \"Estoy\"\r\n",
        "M_2 = \" dando\"\r\n",
        "M_3 = \" una clase\"\r\n",
        "M_total = M_1 + M_2 + M_3\r\n",
        "print(M_total)\r\n",
        "print(M_1 + M_2 + M_3 + \" de Python\")\r\n",
        "\r\n",
        "# No se pueden sumar variables enteras o flotantes con caracteres\r\n",
        "Numero_1 = \"1\"\r\n",
        "Numero_2 = \"2\"\r\n",
        "Numero_3 = Numero_1 + Numero_2\r\n",
        "print(Numero_3)"
      ],
      "execution_count": 20,
      "outputs": [
        {
          "output_type": "stream",
          "text": [
            "Estoy dando una clase\n",
            "Estoy dando una clase de Python\n",
            "12\n"
          ],
          "name": "stdout"
        }
      ]
    },
    {
      "cell_type": "code",
      "metadata": {
        "colab": {
          "base_uri": "https://localhost:8080/"
        },
        "id": "N0TtUxYbsjw5",
        "outputId": "4437cacf-44e6-4b33-b75f-25ae79712488"
      },
      "source": [
        "print('¿Cuál es tu nombre?')\r\n",
        "#Solicitando al usuario un string\r\n",
        "Nombre = input()\r\n",
        "#print(Nombre)\r\n",
        "\r\n",
        "#Solicitando un string al usuario mediante un mensaje\r\n",
        "Apellido = input(\"¿Cuál es tu apellido? \")\r\n",
        "\r\n",
        "#Al ponerle coma entre el mensaje y las variables se genera un espacio\r\n",
        "print(\"Mi nombre es\", Nombre, Apellido)"
      ],
      "execution_count": 25,
      "outputs": [
        {
          "output_type": "stream",
          "text": [
            "¿Cuál es tu nombre?\n",
            "Sandra\n",
            "¿Cuál es tu apellido? González\n",
            "Mi nombre es Sandra González\n"
          ],
          "name": "stdout"
        }
      ]
    },
    {
      "cell_type": "markdown",
      "metadata": {
        "id": "tEATdPL37NTX"
      },
      "source": [
        "Día 1: Tarea"
      ]
    },
    {
      "cell_type": "code",
      "metadata": {
        "colab": {
          "base_uri": "https://localhost:8080/"
        },
        "id": "vjSdbPoh7QrN",
        "outputId": "89d6e07b-885a-4c71-e463-569c34125fa4"
      },
      "source": [
        "print(\"Este programa imprime su nombre :) (tiene que proporcionarlo)\")\r\n",
        "Nombre_1 = input(\"\\nEscriba su primer nombre: \")\r\n",
        "Nombre_2 = input(\"\\nEscriba su segundo nombre: \")\r\n",
        "Apellido_1 = input(\"\\nEscriba su primer apellido: \")\r\n",
        "Apellido_2 = input(\"\\nEscriba su segundo apellido: \")\r\n",
        "Nombre_completo = Nombre_1 + Nombre_2 + Apellido_1 + Apellido_2\r\n",
        "\r\n",
        "print(\"\\nGracias por ejecutar este programa. Su nombre es: \", Nombre_1,Nombre_2,Apellido_1,Apellido_2)\r\n",
        "print(\"Usando la concatenación: \", Nombre_completo)"
      ],
      "execution_count": 31,
      "outputs": [
        {
          "output_type": "stream",
          "text": [
            "Este programa imprime su nombre :) (tiene que proporcionarlo)\n",
            "\n",
            "Escriba su primer nombre: Sandra\n",
            "\n",
            "Escriba su segundo nombre: Judith\n",
            "\n",
            "Escriba su primer apellido: González\n",
            "\n",
            "Escriba su segundo apellido: Enríquez\n",
            "\n",
            "Gracias por ejecutar este programa. Su nombre es:  Sandra Judith González Enríquez\n",
            "Usando la concatenación:  SandraJudithGonzálezEnríquez\n"
          ],
          "name": "stdout"
        }
      ]
    },
    {
      "cell_type": "code",
      "metadata": {
        "id": "-k19D87i8KG6"
      },
      "source": [
        ""
      ],
      "execution_count": null,
      "outputs": []
    }
  ]
}