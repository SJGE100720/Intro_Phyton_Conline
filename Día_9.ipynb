{
  "nbformat": 4,
  "nbformat_minor": 0,
  "metadata": {
    "colab": {
      "name": "Día_9.ipynb",
      "provenance": [],
      "authorship_tag": "ABX9TyMOcUcGJqEE16BIQ5j+nBm1",
      "include_colab_link": true
    },
    "kernelspec": {
      "name": "python3",
      "display_name": "Python 3"
    }
  },
  "cells": [
    {
      "cell_type": "markdown",
      "metadata": {
        "id": "view-in-github",
        "colab_type": "text"
      },
      "source": [
        "<a href=\"https://colab.research.google.com/github/SJGE100720/Intro_Phyton_Conline/blob/main/D%C3%ADa_9.ipynb\" target=\"_parent\"><img src=\"https://colab.research.google.com/assets/colab-badge.svg\" alt=\"Open In Colab\"/></a>"
      ]
    },
    {
      "cell_type": "markdown",
      "metadata": {
        "id": "r0Bk-6GOA2Zr"
      },
      "source": [
        "#Tema 11"
      ]
    },
    {
      "cell_type": "code",
      "metadata": {
        "colab": {
          "base_uri": "https://localhost:8080/"
        },
        "id": "ctRmLW93AxYP",
        "outputId": "291b1ba0-390b-49b6-be5f-32a84f34bb73"
      },
      "source": [
        "import numpy as np #\"as\" le damos el nombre np a la librería, un sobrenombre\r\n",
        "a = [1,2,3]\r\n",
        "print(type(a))\r\n",
        "print(3 * a)\r\n",
        "print(a+a)\r\n",
        "a = np.array(a)\r\n",
        "print(type(a))\r\n",
        "print(3 * a)\r\n",
        "print(a+a)"
      ],
      "execution_count": 4,
      "outputs": [
        {
          "output_type": "stream",
          "text": [
            "<class 'list'>\n",
            "[1, 2, 3, 1, 2, 3, 1, 2, 3]\n",
            "[1, 2, 3, 1, 2, 3]\n",
            "<class 'numpy.ndarray'>\n",
            "[3 6 9]\n",
            "[2 4 6]\n"
          ],
          "name": "stdout"
        }
      ]
    },
    {
      "cell_type": "code",
      "metadata": {
        "colab": {
          "base_uri": "https://localhost:8080/"
        },
        "id": "ettmuyPKBbX1",
        "outputId": "245136e6-5ceb-4224-fcfd-742913814846"
      },
      "source": [
        "#Numpy genera vectores\r\n",
        "#Diez = [1,2,3,4,5,6,7,8,9,10] Escribir arreglos más largos sería\r\n",
        "#tedioso, entonces:\r\n",
        "Diez = np.linspace(1,10,10) #(origen, final, cuántos elementos contendrá)\r\n",
        "print(Diez)\r\n"
      ],
      "execution_count": 7,
      "outputs": [
        {
          "output_type": "stream",
          "text": [
            "[ 1.  2.  3.  4.  5.  6.  7.  8.  9. 10.]\n"
          ],
          "name": "stdout"
        }
      ]
    },
    {
      "cell_type": "code",
      "metadata": {
        "colab": {
          "base_uri": "https://localhost:8080/"
        },
        "id": "kN1getOzCl8w",
        "outputId": "7e65df4f-26c6-4eca-deb2-af93f911e6c1"
      },
      "source": [
        "ceros = np.zeros(3)\r\n",
        "print(ceros)"
      ],
      "execution_count": 8,
      "outputs": [
        {
          "output_type": "stream",
          "text": [
            "[0. 0. 0.]\n"
          ],
          "name": "stdout"
        }
      ]
    },
    {
      "cell_type": "code",
      "metadata": {
        "colab": {
          "base_uri": "https://localhost:8080/"
        },
        "id": "DK6jApvnC2oj",
        "outputId": "c1f25f3c-9471-4251-f0df-9d156c606085"
      },
      "source": [
        "b = np.array([-1,-60,12,3.5,2,3,3])\r\n",
        "Min = np.amin(b)\r\n",
        "print(Min)\r\n",
        "Max = np.amax(b)\r\n",
        "print(Max)  \r\n",
        "Donde_3_5 = np.where(b == 3.5)\r\n",
        "print(Donde_3_5)\r\n",
        "Donde_3 = np.where(b == 3)\r\n",
        "print(Donde_3)"
      ],
      "execution_count": 11,
      "outputs": [
        {
          "output_type": "stream",
          "text": [
            "-60.0\n",
            "12.0\n",
            "(array([3]),)\n",
            "(array([5, 6]),)\n"
          ],
          "name": "stdout"
        }
      ]
    },
    {
      "cell_type": "code",
      "metadata": {
        "colab": {
          "base_uri": "https://localhost:8080/"
        },
        "id": "2oM3q1rPZjJc",
        "outputId": "816797cf-5e49-44cc-e970-14114a8538b8"
      },
      "source": [
        "#x^2 - 3x + 2 = 0\r\n",
        "Ecu_1 = np.array([1,-3,2])\r\n",
        "Sol_1 = np.roots(Ecu_1)\r\n",
        "print(Sol_1)\r\n",
        "#4x^4 - 2x^2 +3x - 2 = 0\r\n",
        "Ecu_2 = np.array([4,0,-2,3,-2])\r\n",
        "Sol_2 = np.roots(Ecu_2)\r\n",
        "print(Sol_2)"
      ],
      "execution_count": 17,
      "outputs": [
        {
          "output_type": "stream",
          "text": [
            "[2. 1.]\n",
            "[-1.20921113+0.j          0.26185021+0.73117971j  0.26185021-0.73117971j\n",
            "  0.6855107 +0.j        ]\n"
          ],
          "name": "stdout"
        }
      ]
    },
    {
      "cell_type": "code",
      "metadata": {
        "colab": {
          "base_uri": "https://localhost:8080/"
        },
        "id": "kBCraMgsb407",
        "outputId": "da316474-774c-4a9f-bb50-c16d732485e9"
      },
      "source": [
        "#5x - 3y - z = 1\r\n",
        "#x + 4y - 6z = -1\r\n",
        "#2x + 3y + 4z = 9\r\n",
        "X = np.array([[5,-3,-1],[1,4,-6],[2,3,4]])\r\n",
        "Val = np.array([1,-1,9])\r\n",
        "print(X)\r\n",
        "print(\"---------\")\r\n",
        "print(Val)\r\n",
        "print(\"---------\")\r\n",
        "print(\"Solución\")\r\n",
        "Sol_S = np.linalg.solve(X,Val) #linalg es un método de álgebra lineal\r\n",
        "print(Sol_S)"
      ],
      "execution_count": 26,
      "outputs": [
        {
          "output_type": "stream",
          "text": [
            "[[ 5 -3 -1]\n",
            " [ 1  4 -6]\n",
            " [ 2  3  4]]\n",
            "---------\n",
            "[ 1 -1  9]\n",
            "---------\n",
            "Solución\n",
            "[1. 1. 1.]\n"
          ],
          "name": "stdout"
        }
      ]
    },
    {
      "cell_type": "code",
      "metadata": {
        "colab": {
          "base_uri": "https://localhost:8080/"
        },
        "id": "KbFmRP94c5MG",
        "outputId": "23eeda6e-d4a1-49e7-e5bc-eb57b1945ea2"
      },
      "source": [
        "Y = np.array([[3,-2,-6],[7,8,-6],[2,1,4]])\r\n",
        "#print(Y)\r\n",
        "XY = np.matmul(X,Y)\r\n",
        "print(XY)"
      ],
      "execution_count": 29,
      "outputs": [
        {
          "output_type": "stream",
          "text": [
            "[[ -8 -35 -16]\n",
            " [ 19  24 -54]\n",
            " [ 35  24 -14]]\n"
          ],
          "name": "stdout"
        }
      ]
    }
  ]
}